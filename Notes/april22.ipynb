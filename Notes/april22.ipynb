{
 "cells": [
  {
   "cell_type": "code",
   "execution_count": 80,
   "metadata": {},
   "outputs": [
    {
     "name": "stdout",
     "output_type": "stream",
     "text": [
      "Defaulting to user installation because normal site-packages is not writeable\n",
      "Requirement already satisfied: torch in /Users/aarushichoudhary/Library/Python/3.9/lib/python/site-packages (2.2.2)\n",
      "Requirement already satisfied: sympy in /Users/aarushichoudhary/Library/Python/3.9/lib/python/site-packages (from torch) (1.12)\n",
      "Requirement already satisfied: filelock in /Users/aarushichoudhary/Library/Python/3.9/lib/python/site-packages (from torch) (3.13.4)\n",
      "Requirement already satisfied: networkx in /Users/aarushichoudhary/Library/Python/3.9/lib/python/site-packages (from torch) (3.2.1)\n",
      "Requirement already satisfied: typing-extensions>=4.8.0 in /Users/aarushichoudhary/Library/Python/3.9/lib/python/site-packages (from torch) (4.9.0)\n",
      "Requirement already satisfied: jinja2 in /Users/aarushichoudhary/Library/Python/3.9/lib/python/site-packages (from torch) (3.1.3)\n",
      "Requirement already satisfied: fsspec in /Users/aarushichoudhary/Library/Python/3.9/lib/python/site-packages (from torch) (2024.3.1)\n",
      "Requirement already satisfied: MarkupSafe>=2.0 in /Users/aarushichoudhary/Library/Python/3.9/lib/python/site-packages (from jinja2->torch) (2.1.5)\n",
      "Requirement already satisfied: mpmath>=0.19 in /Users/aarushichoudhary/Library/Python/3.9/lib/python/site-packages (from sympy->torch) (1.3.0)\n",
      "\u001b[33mWARNING: You are using pip version 21.2.4; however, version 24.0 is available.\n",
      "You should consider upgrading via the '/Library/Developer/CommandLineTools/usr/bin/python3 -m pip install --upgrade pip' command.\u001b[0m\n"
     ]
    }
   ],
   "source": [
    "!pip3 install torch"
   ]
  },
  {
   "cell_type": "code",
   "execution_count": 81,
   "metadata": {},
   "outputs": [],
   "source": [
    "import pandas as pd\n",
    "import torch\n",
    "\n",
    "diabetes_df = pd.read_csv(\"diabetes.csv\")\n"
   ]
  },
  {
   "cell_type": "code",
   "execution_count": 82,
   "metadata": {},
   "outputs": [],
   "source": [
    "from sklearn.model_selection import train_test_split\n",
    "\n",
    "X = diabetes_df.drop('Outcome', axis=1).values\n",
    "y = diabetes_df['Outcome'].values\n",
    "\n",
    "X_train, X_test, y_train, y_test = train_test_split(X, y, test_size=0.3,\n",
    "                                                    random_state=32,\n",
    "                                                    stratify=y)"
   ]
  },
  {
   "cell_type": "markdown",
   "metadata": {},
   "source": [
    "(3 pts) Look up the Adam optimization functions in PyTorch https://pytorch.org/docs/stable/optim.html . How does it work? Try at least one other optimization function with the diabetes dataset shown in class. How does the model perform with the new optimizer? Did it perform better or worse than Adam? Why do you think that is?"
   ]
  },
  {
   "cell_type": "markdown",
   "metadata": {},
   "source": [
    "The Adam optimization algorithm adjusts the model's parameters to minimize the loss function by updating the first and second moment estimates."
   ]
  },
  {
   "cell_type": "markdown",
   "metadata": {},
   "source": [
    "2)Write a function that lists and counts the number of divisors for an input value."
   ]
  },
  {
   "cell_type": "code",
   "execution_count": 83,
   "metadata": {},
   "outputs": [
    {
     "name": "stdout",
     "output_type": "stream",
     "text": [
      "There are 2 divisors: 1, 5\n",
      "There are 8 divisors: 1, 2, 4, 5, 8, 10, 20, 40\n"
     ]
    }
   ],
   "source": [
    "def divisors(integer):\n",
    "    divisor = [i for i in range(1, integer + 1) if integer % i == 0]\n",
    "    count = len(divisor)\n",
    "    divisors_string = ', '.join(map(str, divisor))\n",
    "    return f\"There {'is' if count == 1 else 'are'} {count} divisor{'s' if count != 1 else ''}: {divisors_string}\"\n",
    "\n",
    "\n",
    "example1 = 5\n",
    "print(divisors(example1))\n",
    "\n",
    "\n",
    "example2 = 40\n",
    "print(divisors(example2))"
   ]
  }
 ],
 "metadata": {
  "kernelspec": {
   "display_name": "Python 3",
   "language": "python",
   "name": "python3"
  },
  "language_info": {
   "codemirror_mode": {
    "name": "ipython",
    "version": 3
   },
   "file_extension": ".py",
   "mimetype": "text/x-python",
   "name": "python",
   "nbconvert_exporter": "python",
   "pygments_lexer": "ipython3",
   "version": "3.9.6"
  }
 },
 "nbformat": 4,
 "nbformat_minor": 2
}
