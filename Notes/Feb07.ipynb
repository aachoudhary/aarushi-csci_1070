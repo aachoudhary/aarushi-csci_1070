{
 "cells": [
  {
   "cell_type": "markdown",
   "metadata": {},
   "source": [
    "Covariance and Correlation\n",
    "Covariance is to correlation what variance is to standard deviation\n",
    "\n",
    "Covariance tell us how much and to what extend two random variables change together.\n",
    "IN other words: how much will one variable change as another variable changes. \n",
    "\n",
    "Positive = variables change in the same direction\n",
    "Negative = variables change in the opposite direction\n",
    "\n",
    "Corelation tells us how strong the relationship is between the variables\n",
    "correlation = (covariance of x and y)/(stdev of x)(stdev of y)"
   ]
  },
  {
   "cell_type": "code",
   "execution_count": 5,
   "metadata": {},
   "outputs": [
    {
     "data": {
      "text/plain": [
       "array(919.77350828)"
      ]
     },
     "execution_count": 5,
     "metadata": {},
     "output_type": "execute_result"
    }
   ],
   "source": [
    "import pandas as pd \n",
    "import numpy as np \n",
    "belize_listings_path = \"belize_airbnb_listings.csv\"\n",
    "belize_df = pd.read_csv(belize_listings_path)\n",
    "np.cov(belize_df['number_of_reviews'])"
   ]
  }
 ],
 "metadata": {
  "kernelspec": {
   "display_name": "Python 3",
   "language": "python",
   "name": "python3"
  },
  "language_info": {
   "codemirror_mode": {
    "name": "ipython",
    "version": 3
   },
   "file_extension": ".py",
   "mimetype": "text/x-python",
   "name": "python",
   "nbconvert_exporter": "python",
   "pygments_lexer": "ipython3",
   "version": "3.9.6"
  }
 },
 "nbformat": 4,
 "nbformat_minor": 2
}
