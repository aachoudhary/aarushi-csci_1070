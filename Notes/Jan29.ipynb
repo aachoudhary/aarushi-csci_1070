{
 "cells": [
  {
   "cell_type": "markdown",
   "id": "15a7009d-00e5-4e67-9050-918a76c83e27",
   "metadata": {},
   "source": [
    "#Python Constructor\n",
    "__init__\n",
    "SELF is a default variable that contains the memory address of the current code we are working in"
   ]
  },
  {
   "cell_type": "code",
   "execution_count": 5,
   "id": "d798499d-1d9d-4f41-a949-935dc022790f",
   "metadata": {},
   "outputs": [
    {
     "name": "stdout",
     "output_type": "stream",
     "text": [
      "1\n"
     ]
    }
   ],
   "source": [
    "#default/basic constructor\n",
    "def __init__(self):\n",
    "    self.var = 0\n",
    "\n",
    "    #an instance method for printing\n",
    "    def print_vars(self):\n",
    "        print(self.var)\n",
    "\n",
    "#create instance of a class\n",
    "obj = a_sample_class(1, 2)\n",
    "\n",
    "obj.print_vars()"
   ]
  },
  {
   "cell_type": "code",
   "execution_count": 6,
   "id": "025b18b4-1772-4bac-bedc-4daa840743b1",
   "metadata": {},
   "outputs": [
    {
     "name": "stdout",
     "output_type": "stream",
     "text": [
      "17\n"
     ]
    },
    {
     "ename": "AttributeError",
     "evalue": "'a_sample_class' object has no attribute 'class_attr'",
     "output_type": "error",
     "traceback": [
      "\u001b[0;31m---------------------------------------------------------------------------\u001b[0m",
      "\u001b[0;31mAttributeError\u001b[0m                            Traceback (most recent call last)",
      "Cell \u001b[0;32mIn[6], line 1\u001b[0m\n\u001b[0;32m----> 1\u001b[0m \u001b[38;5;28;43;01mclass\u001b[39;49;00m\u001b[43m \u001b[49m\u001b[38;5;21;43;01ma_sample_class\u001b[39;49;00m\u001b[43m:\u001b[49m\n\u001b[1;32m      2\u001b[0m \u001b[43m    \u001b[49m\u001b[43mclass_attr\u001b[49m\u001b[43m \u001b[49m\u001b[38;5;241;43m=\u001b[39;49m\u001b[43m \u001b[49m\u001b[38;5;241;43m5\u001b[39;49m\n\u001b[1;32m      4\u001b[0m \u001b[43m    \u001b[49m\u001b[38;5;28;43;01mdef\u001b[39;49;00m\u001b[43m \u001b[49m\u001b[38;5;21;43m__init__\u001b[39;49m\u001b[43m(\u001b[49m\u001b[38;5;28;43mself\u001b[39;49m\u001b[43m,\u001b[49m\u001b[43m \u001b[49m\u001b[43mone\u001b[49m\u001b[43m,\u001b[49m\u001b[43m \u001b[49m\u001b[43mtwo\u001b[49m\u001b[43m)\u001b[49m\u001b[43m:\u001b[49m\n\u001b[1;32m      5\u001b[0m \u001b[43m            \u001b[49m\u001b[38;5;66;43;03m#instance attribute\u001b[39;49;00m\n",
      "Cell \u001b[0;32mIn[6], line 16\u001b[0m, in \u001b[0;36ma_sample_class\u001b[0;34m()\u001b[0m\n\u001b[1;32m     13\u001b[0m \u001b[38;5;28mprint\u001b[39m(obj\u001b[38;5;241m.\u001b[39mfirst)\n\u001b[1;32m     15\u001b[0m \u001b[38;5;66;03m#class attribute as property of object\u001b[39;00m\n\u001b[0;32m---> 16\u001b[0m \u001b[38;5;28mprint\u001b[39m(\u001b[43mobj\u001b[49m\u001b[38;5;241;43m.\u001b[39;49m\u001b[43mclass_attr\u001b[49m)\n\u001b[1;32m     18\u001b[0m \u001b[38;5;66;03m#instance attribute as property of class\u001b[39;00m\n\u001b[1;32m     19\u001b[0m \u001b[38;5;28mprint\u001b[39m(a_sample_class\u001b[38;5;241m.\u001b[39mfirst)\n",
      "\u001b[0;31mAttributeError\u001b[0m: 'a_sample_class' object has no attribute 'class_attr'"
     ]
    }
   ],
   "source": [
    "class a_sample_class:\n",
    "    class_attr = 5\n",
    "\n",
    "    def __init__(self, one, two):\n",
    "            #instance attribute\n",
    "            self.first = one\n",
    "            self.second = two\n",
    "\n",
    "    #object is instance of class\n",
    "    obj = a_sample_class(17, 42)\n",
    "\n",
    "    #instance attribute as property of object\n",
    "    print(obj.first)\n",
    "\n",
    "    #class attribute as property of object\n",
    "    print(obj.class_attr)\n",
    "\n",
    "    #instance attribute as property of class\n",
    "    print(a_sample_class.first)\n",
    "\n",
    "    #class attribute as a property of class\n",
    "    print(a_sample_class.class_attr)"
   ]
  },
  {
   "cell_type": "code",
   "execution_count": 7,
   "id": "d0ead65a-6300-425b-a7e8-87260ddcbd6e",
   "metadata": {
    "scrolled": true
   },
   "outputs": [
    {
     "name": "stdout",
     "output_type": "stream",
     "text": [
      "2\n"
     ]
    }
   ],
   "source": [
    "class a_sample_class:\n",
    "        def __init__(self, one, two):\n",
    "            self.first = one\n",
    "\n",
    "        def print_vars(self):\n",
    "            print(self.first)\n",
    "\n",
    "obj = a_sample_class(2,8)\n",
    "obj.print_vars()"
   ]
  },
  {
   "cell_type": "markdown",
   "id": "ed7a518f-282b-4334-9021-9a982611c319",
   "metadata": {},
   "source": [
    "Instance\n",
    "instance attribute= variable that belongs to a specific instance or instantiation. Defined inside the constructor (init). Can access from the scope of an object (local)\n",
    "\n",
    "class attribute= type of variable that belongs to the class itself\n",
    "Defined outside the constructor. Similat to static attributes in Java. In pyton is is a property og both class and object. "
   ]
  },
  {
   "cell_type": "code",
   "execution_count": 8,
   "id": "a5141bbb-5eef-4190-9d5f-a64e3d3d1ec6",
   "metadata": {},
   "outputs": [
    {
     "name": "stdout",
     "output_type": "stream",
     "text": [
      "Help on a_sample_class in module __main__ object:\n",
      "\n",
      "class a_sample_class(builtins.object)\n",
      " |  a_sample_class(one, two)\n",
      " |\n",
      " |  Methods defined here:\n",
      " |\n",
      " |  __init__(self, one, two)\n",
      " |      Initialize self.  See help(type(self)) for accurate signature.\n",
      " |\n",
      " |  print_vars(self)\n",
      " |\n",
      " |  ----------------------------------------------------------------------\n",
      " |  Data descriptors defined here:\n",
      " |\n",
      " |  __dict__\n",
      " |      dictionary for instance variables\n",
      " |\n",
      " |  __weakref__\n",
      " |      list of weak references to the object\n",
      "\n"
     ]
    }
   ],
   "source": [
    "help(obj)"
   ]
  },
  {
   "cell_type": "code",
   "execution_count": 9,
   "id": "c7f9f055-9bea-4cf4-a0d2-b4230aea570b",
   "metadata": {},
   "outputs": [
    {
     "data": {
      "text/plain": [
       "{'__name__': '__main__',\n",
       " '__doc__': 'Automatically created module for IPython interactive environment',\n",
       " '__package__': None,\n",
       " '__loader__': None,\n",
       " '__spec__': None,\n",
       " '__builtin__': <module 'builtins' (built-in)>,\n",
       " '__builtins__': <module 'builtins' (built-in)>,\n",
       " '_ih': ['',\n",
       "  'class a_sample_class:\\n        def __init__(self, one, two):\\n            self.first = one\\n\\n        def print_vars(self):\\n            print(self.first)\\n\\nobj = a_sample_class(2,8)\\nobj.print_vars()',\n",
       "  '#default/basic constructor\\ndef __init__(self):\\n    self.var = 0\\n\\n    #an instance method for printing\\n    def print_vars(self):\\n        prin(self.var)\\n\\n#create instance of a class\\nobj = a_sample_class()\\n\\nobj.print_vars()',\n",
       "  '#default/basic constructor\\ndef __init__(self):\\n    self.var = 0\\n\\n    #an instance method for printing\\n    def print_vars(self):\\n        print(self.var)\\n\\n#create instance of a class\\nobj = a_sample_class()\\n\\nobj.print_vars()',\n",
       "  '#default/basic constructor\\ndef __init__(self):\\n    self.var = 0\\n\\n    #an instance method for printing\\n    def print_vars(self):\\n        print(self.var)\\n\\n#create instance of a class\\nobj = a_sample_class(1)\\n\\nobj.print_vars()',\n",
       "  '#default/basic constructor\\ndef __init__(self):\\n    self.var = 0\\n\\n    #an instance method for printing\\n    def print_vars(self):\\n        print(self.var)\\n\\n#create instance of a class\\nobj = a_sample_class(1, 2)\\n\\nobj.print_vars()',\n",
       "  'class a_sample_class:\\n    class_attr = 5\\n\\n    def __init__(self, one, two):\\n            #instance attribute\\n            self.first = one\\n            self.second = two\\n\\n    #object is instance of class\\n    obj = a_sample_class(17, 42)\\n\\n    #instance attribute as property of object\\n    print(obj.first)\\n\\n    #class attribute as property of object\\n    print(obj.class_attr)\\n\\n    #instance attribute as property of class\\n    print(a_sample_class.first)\\n\\n    #class attribute as a property of class\\n    print(a_sample_class.class_attr)',\n",
       "  'class a_sample_class:\\n        def __init__(self, one, two):\\n            self.first = one\\n\\n        def print_vars(self):\\n            print(self.first)\\n\\nobj = a_sample_class(2,8)\\nobj.print_vars()',\n",
       "  'help(obj)',\n",
       "  'globals()'],\n",
       " '_oh': {},\n",
       " '_dh': [PosixPath('/Users/aarushichoudhary/Documents/csci_1070')],\n",
       " 'In': ['',\n",
       "  'class a_sample_class:\\n        def __init__(self, one, two):\\n            self.first = one\\n\\n        def print_vars(self):\\n            print(self.first)\\n\\nobj = a_sample_class(2,8)\\nobj.print_vars()',\n",
       "  '#default/basic constructor\\ndef __init__(self):\\n    self.var = 0\\n\\n    #an instance method for printing\\n    def print_vars(self):\\n        prin(self.var)\\n\\n#create instance of a class\\nobj = a_sample_class()\\n\\nobj.print_vars()',\n",
       "  '#default/basic constructor\\ndef __init__(self):\\n    self.var = 0\\n\\n    #an instance method for printing\\n    def print_vars(self):\\n        print(self.var)\\n\\n#create instance of a class\\nobj = a_sample_class()\\n\\nobj.print_vars()',\n",
       "  '#default/basic constructor\\ndef __init__(self):\\n    self.var = 0\\n\\n    #an instance method for printing\\n    def print_vars(self):\\n        print(self.var)\\n\\n#create instance of a class\\nobj = a_sample_class(1)\\n\\nobj.print_vars()',\n",
       "  '#default/basic constructor\\ndef __init__(self):\\n    self.var = 0\\n\\n    #an instance method for printing\\n    def print_vars(self):\\n        print(self.var)\\n\\n#create instance of a class\\nobj = a_sample_class(1, 2)\\n\\nobj.print_vars()',\n",
       "  'class a_sample_class:\\n    class_attr = 5\\n\\n    def __init__(self, one, two):\\n            #instance attribute\\n            self.first = one\\n            self.second = two\\n\\n    #object is instance of class\\n    obj = a_sample_class(17, 42)\\n\\n    #instance attribute as property of object\\n    print(obj.first)\\n\\n    #class attribute as property of object\\n    print(obj.class_attr)\\n\\n    #instance attribute as property of class\\n    print(a_sample_class.first)\\n\\n    #class attribute as a property of class\\n    print(a_sample_class.class_attr)',\n",
       "  'class a_sample_class:\\n        def __init__(self, one, two):\\n            self.first = one\\n\\n        def print_vars(self):\\n            print(self.first)\\n\\nobj = a_sample_class(2,8)\\nobj.print_vars()',\n",
       "  'help(obj)',\n",
       "  'globals()'],\n",
       " 'Out': {},\n",
       " 'get_ipython': <bound method InteractiveShell.get_ipython of <ipykernel.zmqshell.ZMQInteractiveShell object at 0x1034ac890>>,\n",
       " 'exit': <IPython.core.autocall.ZMQExitAutocall at 0x1034ad070>,\n",
       " 'quit': <IPython.core.autocall.ZMQExitAutocall at 0x1034ad070>,\n",
       " 'open': <function _io.open(file, mode='r', buffering=-1, encoding=None, errors=None, newline=None, closefd=True, opener=None)>,\n",
       " '_': '',\n",
       " '__': '',\n",
       " '___': '',\n",
       " '__session__': '/Users/aarushichoudhary/Documents/csci_1070/Untitled.ipynb',\n",
       " '_i': 'help(obj)',\n",
       " '_ii': 'class a_sample_class:\\n        def __init__(self, one, two):\\n            self.first = one\\n\\n        def print_vars(self):\\n            print(self.first)\\n\\nobj = a_sample_class(2,8)\\nobj.print_vars()',\n",
       " '_iii': 'class a_sample_class:\\n    class_attr = 5\\n\\n    def __init__(self, one, two):\\n            #instance attribute\\n            self.first = one\\n            self.second = two\\n\\n    #object is instance of class\\n    obj = a_sample_class(17, 42)\\n\\n    #instance attribute as property of object\\n    print(obj.first)\\n\\n    #class attribute as property of object\\n    print(obj.class_attr)\\n\\n    #instance attribute as property of class\\n    print(a_sample_class.first)\\n\\n    #class attribute as a property of class\\n    print(a_sample_class.class_attr)',\n",
       " '_i1': 'class a_sample_class:\\n        def __init__(self, one, two):\\n            self.first = one\\n\\n        def print_vars(self):\\n            print(self.first)\\n\\nobj = a_sample_class(2,8)\\nobj.print_vars()',\n",
       " 'a_sample_class': __main__.a_sample_class,\n",
       " 'obj': <__main__.a_sample_class at 0x10361fc20>,\n",
       " '_i2': '#default/basic constructor\\ndef __init__(self):\\n    self.var = 0\\n\\n    #an instance method for printing\\n    def print_vars(self):\\n        prin(self.var)\\n\\n#create instance of a class\\nobj = a_sample_class()\\n\\nobj.print_vars()',\n",
       " '__init__': <function __main__.__init__(self)>,\n",
       " '_i3': '#default/basic constructor\\ndef __init__(self):\\n    self.var = 0\\n\\n    #an instance method for printing\\n    def print_vars(self):\\n        print(self.var)\\n\\n#create instance of a class\\nobj = a_sample_class()\\n\\nobj.print_vars()',\n",
       " '_i4': '#default/basic constructor\\ndef __init__(self):\\n    self.var = 0\\n\\n    #an instance method for printing\\n    def print_vars(self):\\n        print(self.var)\\n\\n#create instance of a class\\nobj = a_sample_class(1)\\n\\nobj.print_vars()',\n",
       " '_i5': '#default/basic constructor\\ndef __init__(self):\\n    self.var = 0\\n\\n    #an instance method for printing\\n    def print_vars(self):\\n        print(self.var)\\n\\n#create instance of a class\\nobj = a_sample_class(1, 2)\\n\\nobj.print_vars()',\n",
       " '_i6': 'class a_sample_class:\\n    class_attr = 5\\n\\n    def __init__(self, one, two):\\n            #instance attribute\\n            self.first = one\\n            self.second = two\\n\\n    #object is instance of class\\n    obj = a_sample_class(17, 42)\\n\\n    #instance attribute as property of object\\n    print(obj.first)\\n\\n    #class attribute as property of object\\n    print(obj.class_attr)\\n\\n    #instance attribute as property of class\\n    print(a_sample_class.first)\\n\\n    #class attribute as a property of class\\n    print(a_sample_class.class_attr)',\n",
       " '_i7': 'class a_sample_class:\\n        def __init__(self, one, two):\\n            self.first = one\\n\\n        def print_vars(self):\\n            print(self.first)\\n\\nobj = a_sample_class(2,8)\\nobj.print_vars()',\n",
       " '_i8': 'help(obj)',\n",
       " '_i9': 'globals()'}"
      ]
     },
     "execution_count": 9,
     "metadata": {},
     "output_type": "execute_result"
    }
   ],
   "source": [
    "#returns the current module namespace\n",
    "#namespace= mapping between objects and current names.\n",
    "globals()"
   ]
  },
  {
   "cell_type": "code",
   "execution_count": null,
   "id": "b559cc90-33a8-4a11-b251-de5246b6da2b",
   "metadata": {},
   "outputs": [],
   "source": [
    "#Instance, class, and Static Methods\n",
    "class candy:\n",
    "    #variables that start with a single _ are reserved for internal purposes\n",
    "    def __init__(self,\n",
    "                 _brand,\n",
    "                 _is_caramel= False,\n",
    "                 _has_nuts= False,\n",
    "                 _calories= 2000\n",
    "                 _type='chocolate',\n",
    "                 _size= 'big'):\n",
    "        self.type= _type\n",
    "        self.brand= _brand\n",
    "        self.is_caramel= _is_caramel\n",
    "        self.has_nuts= _has_nuts\n",
    "        self.calories= _calories\n",
    "        self.size= _size\n",
    "\n",
    "    #instance method can modify/access both class and instance state\n",
    "    #print is accessing the state\n",
    "    def display(self):\n",
    "        print(f'My favorite candy is {self.brand} {self.type}')"
   ]
  },
  {
   "cell_type": "code",
   "execution_count": 11,
   "id": "6bc49444-d6c5-4865-a59b-d9b79c0fa319",
   "metadata": {},
   "outputs": [
    {
     "ename": "NameError",
     "evalue": "name 'candy' is not defined",
     "output_type": "error",
     "traceback": [
      "\u001b[0;31m---------------------------------------------------------------------------\u001b[0m",
      "\u001b[0;31mNameError\u001b[0m                                 Traceback (most recent call last)",
      "Cell \u001b[0;32mIn[11], line 1\u001b[0m\n\u001b[0;32m----> 1\u001b[0m favorite_candy \u001b[38;5;241m=\u001b[39m \u001b[43mcandy\u001b[49m(_brand\u001b[38;5;241m=\u001b[39m\u001b[38;5;124m'\u001b[39m\u001b[38;5;124mReeses\u001b[39m\u001b[38;5;124m'\u001b[39m)\n\u001b[1;32m      2\u001b[0m favorite_candy\u001b[38;5;241m.\u001b[39mdisplay()\n",
      "\u001b[0;31mNameError\u001b[0m: name 'candy' is not defined"
     ]
    }
   ],
   "source": [
    "favorite_candy = candy(_brand='Reeses')\n",
    "favorite_candy.display()"
   ]
  },
  {
   "cell_type": "code",
   "execution_count": null,
   "id": "6bab360f-0503-414c-9237-86a054d84ca5",
   "metadata": {},
   "outputs": [],
   "source": []
  }
 ],
 "metadata": {
  "kernelspec": {
   "display_name": "Python 3 (ipykernel)",
   "language": "python",
   "name": "python3"
  },
  "language_info": {
   "codemirror_mode": {
    "name": "ipython",
    "version": 3
   },
   "file_extension": ".py",
   "mimetype": "text/x-python",
   "name": "python",
   "nbconvert_exporter": "python",
   "pygments_lexer": "ipython3",
   "version": "3.12.1"
  }
 },
 "nbformat": 4,
 "nbformat_minor": 5
}
