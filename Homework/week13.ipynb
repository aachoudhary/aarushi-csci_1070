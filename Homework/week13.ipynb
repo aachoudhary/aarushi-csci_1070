{
 "cells": [
  {
   "cell_type": "markdown",
   "metadata": {},
   "source": [
    "(3 pts) What is a neural network? What are the general steps required to build a neural network?              \n",
    "(3 pts) Generally, how do you check the performance of a neural network? Why is this the case?               \n",
    "(4 pts) Clean the data or do additional cleaning if you have used the dataset for another assignment. Specify the improvements (at least 2) that you made to your cleaning if you selected the dataset before. If you select one with a low number or records, consider oversampling.                    \n",
    "(10 pts) Create a neural network using Keras or PyTorch to predict the outcome of your datasets.           \n",
    "(5 pts) Compare the performance of the neural networks to another model you created. Which performed better? Why do you think that is?                       "
   ]
  },
  {
   "cell_type": "markdown",
   "metadata": {},
   "source": [
    "# What is a neural network\n",
    "\n",
    "A neural network is a way to diagram relationships between data in a way that is mapped like the human brain. The general steps are :\n",
    "1) obtain and preprocess the data\n",
    "2) Set the paramaters of the network\n",
    "3) Train the network by feeding it the data\n",
    "4) Fine tune as needed"
   ]
  },
  {
   "cell_type": "markdown",
   "metadata": {},
   "source": [
    "# How to check performance and why? \n",
    "\n",
    "You can check its performance by doing a classification matrix and calculating the recall, precision, accuracy, and any other optimization metric. This is the case because it allows us to see how well the machine is able to predict the trends by putting what it predicts against what the actual value is. "
   ]
  },
  {
   "cell_type": "markdown",
   "metadata": {},
   "source": [
    "# Cleaning the Data - credit card set"
   ]
  },
  {
   "cell_type": "code",
   "execution_count": 1,
   "metadata": {},
   "outputs": [
    {
     "name": "stderr",
     "output_type": "stream",
     "text": [
      "/var/folders/68/jgh30zmn54z999vhrzlb3zbc0000gn/T/ipykernel_18370/4155478247.py:1: DeprecationWarning: \n",
      "Pyarrow will become a required dependency of pandas in the next major release of pandas (pandas 3.0),\n",
      "(to allow more performant data types, such as the Arrow string type, and better interoperability with other libraries)\n",
      "but was not found to be installed on your system.\n",
      "If this would cause problems for you,\n",
      "please provide us feedback at https://github.com/pandas-dev/pandas/issues/54466\n",
      "        \n",
      "  import pandas as pd\n"
     ]
    }
   ],
   "source": [
    "import pandas as pd\n",
    "import numpy as np\n",
    "card_df = pd.read_csv('Credit_card.csv')\n",
    "label_df = pd.read_csv('Credit_card_label.csv')\n",
    "\n",
    "credit_df = pd.merge(card_df,label_df)\n",
    "\n",
    "credit_df = pd.get_dummies(credit_df)\n",
    "\n",
    "credit_df.fillna(credit_df.mean(), inplace=True)\n",
    "\n",
    "\n"
   ]
  }
 ],
 "metadata": {
  "kernelspec": {
   "display_name": "Python 3",
   "language": "python",
   "name": "python3"
  },
  "language_info": {
   "codemirror_mode": {
    "name": "ipython",
    "version": 3
   },
   "file_extension": ".py",
   "mimetype": "text/x-python",
   "name": "python",
   "nbconvert_exporter": "python",
   "pygments_lexer": "ipython3",
   "version": "3.9.6"
  }
 },
 "nbformat": 4,
 "nbformat_minor": 2
}
