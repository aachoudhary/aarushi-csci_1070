{
 "cells": [
  {
   "cell_type": "code",
   "execution_count": 504,
   "metadata": {},
   "outputs": [],
   "source": [
    "import pandas as pd\n",
    "import numpy as np\n",
    "import matplotlib.pyplot as plt\n",
    "from sklearn.model_selection import train_test_split\n",
    "from sklearn.preprocessing import StandardScaler\n",
    "from sklearn.linear_model import LinearRegression\n",
    "from typing import List, Tuple\n",
    "from sklearn.linear_model import LogisticRegression\n",
    "from sklearn.neighbors import KNeighborsClassifier\n",
    "from sklearn.metrics import accuracy_score\n",
    "from sklearn import preprocessing\n",
    "from sklearn.metrics import r2_score\n",
    "card_df = pd.read_csv('Credit_card.csv')"
   ]
  },
  {
   "cell_type": "code",
   "execution_count": 505,
   "metadata": {},
   "outputs": [],
   "source": [
    "label_df = pd.read_csv('Credit_card_label.csv')"
   ]
  },
  {
   "cell_type": "markdown",
   "metadata": {},
   "source": [
    "(5 pts) Clean your dataset to turn categorical values into numerical ones. One-hot encoding is likely the answer, but it depends on the dataset. Your data may have ordinal columns, for example where one-hot encoding is not as appropriate. "
   ]
  },
  {
   "cell_type": "code",
   "execution_count": 506,
   "metadata": {},
   "outputs": [],
   "source": [
    "card_df = pd.get_dummies(card_df)"
   ]
  },
  {
   "cell_type": "code",
   "execution_count": 507,
   "metadata": {},
   "outputs": [],
   "source": [
    "credit_df = pd.merge(card_df,label_df)\n",
    "credit_df.fillna(credit_df.mean(), inplace=True)"
   ]
  },
  {
   "cell_type": "markdown",
   "metadata": {},
   "source": [
    "(3 pts) Perform univariate linear regression on the dataset. Select your variable to predict. How well did this model perform? Is this a good approach for this dataset? Why or why not? "
   ]
  },
  {
   "cell_type": "code",
   "execution_count": 508,
   "metadata": {},
   "outputs": [
    {
     "data": {
      "text/plain": [
       "1.0"
      ]
     },
     "execution_count": 508,
     "metadata": {},
     "output_type": "execute_result"
    }
   ],
   "source": [
    "\n",
    "X = credit_df\n",
    "\n",
    "y = credit_df['label']\n",
    "\n",
    "X_train, X_test, y_train, y_test = train_test_split(X, y, \n",
    "                                                    test_size=0.3, \n",
    "                                                    random_state=32)\n",
    "\n",
    "regression_model = LinearRegression()\n",
    "regression_model.fit(X_train, y_train)\n",
    "y_pred = regression_model.predict(X_test)\n",
    "r2_score(y_test, y_pred)"
   ]
  },
  {
   "cell_type": "markdown",
   "metadata": {},
   "source": [
    "This model performed well, which we can tell because the r2 score is 1.0, meaning that it is perfect. This is a good approach for the data set because of this score. "
   ]
  },
  {
   "cell_type": "markdown",
   "metadata": {},
   "source": [
    "(8 pts) Perform KNN on this dataset. As part of this, write a function that selects the optimal value of k. How well did this model perform?"
   ]
  },
  {
   "cell_type": "code",
   "execution_count": 509,
   "metadata": {},
   "outputs": [
    {
     "name": "stdout",
     "output_type": "stream",
     "text": [
      "Optimal value of k: 0\n"
     ]
    }
   ],
   "source": [
    "sc = StandardScaler()\n",
    "def find_optimal_k(X_train, y_train, X_test, y_test, max_k=20):\n",
    "    accuracy_values = []\n",
    "    \n",
    "    for k in range(1, 20):\n",
    "        knn_model = KNeighborsClassifier(n_neighbors=k)\n",
    "        X_train = sc.fit_transform(X_train)\n",
    "        X_test = sc.fit_transform(X_test)   \n",
    "        knn_model.fit(X_train, y_train)\n",
    "        y_pred = knn_model.predict(X_test)\n",
    "        accuracy = accuracy_score(y_test, y_pred)\n",
    "        accuracy_values.append(accuracy)\n",
    "    optimal_k = accuracy_values.index(max(accuracy_values))\n",
    "    print(f\"Optimal value of k: {optimal_k}\")\n",
    "    return optimal_k\n",
    "optimal_k = find_optimal_k(X_train, y_train, X_test, y_test)\n",
    "\n",
    "\n"
   ]
  },
  {
   "cell_type": "markdown",
   "metadata": {},
   "source": [
    "This means that the model did not prove to find anything signifcant since a k value of 0 means that there is no meaning to the dataset. "
   ]
  },
  {
   "cell_type": "markdown",
   "metadata": {},
   "source": [
    "(6 pts) Work with your dataset to perform logistic regression. How well did this perform?"
   ]
  },
  {
   "cell_type": "code",
   "execution_count": 510,
   "metadata": {},
   "outputs": [
    {
     "ename": "ValueError",
     "evalue": "Unknown label type: continuous. Maybe you are trying to fit a classifier, which expects discrete classes on a regression target with continuous values.",
     "output_type": "error",
     "traceback": [
      "\u001b[0;31m---------------------------------------------------------------------------\u001b[0m",
      "\u001b[0;31mValueError\u001b[0m                                Traceback (most recent call last)",
      "Cell \u001b[0;32mIn[510], line 6\u001b[0m\n\u001b[1;32m      2\u001b[0m y\u001b[38;5;241m=\u001b[39mnormal_df[\u001b[38;5;124m'\u001b[39m\u001b[38;5;124mlabel\u001b[39m\u001b[38;5;124m'\u001b[39m]\n\u001b[1;32m      4\u001b[0m X_train, X_test, y_train, y_test \u001b[38;5;241m=\u001b[39m train_test_split(X, y, test_size\u001b[38;5;241m=\u001b[39m\u001b[38;5;241m0.2\u001b[39m, random_state\u001b[38;5;241m=\u001b[39m\u001b[38;5;241m42\u001b[39m)\n\u001b[0;32m----> 6\u001b[0m regression \u001b[38;5;241m=\u001b[39m \u001b[43mLogisticRegression\u001b[49m\u001b[43m(\u001b[49m\u001b[43mrandom_state\u001b[49m\u001b[38;5;241;43m=\u001b[39;49m\u001b[38;5;241;43m32\u001b[39;49m\u001b[43m)\u001b[49m\u001b[38;5;241;43m.\u001b[39;49m\u001b[43mfit\u001b[49m\u001b[43m(\u001b[49m\u001b[43mX_train\u001b[49m\u001b[43m,\u001b[49m\u001b[43m \u001b[49m\u001b[43my_train\u001b[49m\u001b[43m)\u001b[49m\n\u001b[1;32m      7\u001b[0m regression\u001b[38;5;241m.\u001b[39mscore(X_test, y_test)\n",
      "File \u001b[0;32m~/Library/Python/3.9/lib/python/site-packages/sklearn/base.py:1351\u001b[0m, in \u001b[0;36m_fit_context.<locals>.decorator.<locals>.wrapper\u001b[0;34m(estimator, *args, **kwargs)\u001b[0m\n\u001b[1;32m   1344\u001b[0m     estimator\u001b[38;5;241m.\u001b[39m_validate_params()\n\u001b[1;32m   1346\u001b[0m \u001b[38;5;28;01mwith\u001b[39;00m config_context(\n\u001b[1;32m   1347\u001b[0m     skip_parameter_validation\u001b[38;5;241m=\u001b[39m(\n\u001b[1;32m   1348\u001b[0m         prefer_skip_nested_validation \u001b[38;5;129;01mor\u001b[39;00m global_skip_validation\n\u001b[1;32m   1349\u001b[0m     )\n\u001b[1;32m   1350\u001b[0m ):\n\u001b[0;32m-> 1351\u001b[0m     \u001b[38;5;28;01mreturn\u001b[39;00m \u001b[43mfit_method\u001b[49m\u001b[43m(\u001b[49m\u001b[43mestimator\u001b[49m\u001b[43m,\u001b[49m\u001b[43m \u001b[49m\u001b[38;5;241;43m*\u001b[39;49m\u001b[43margs\u001b[49m\u001b[43m,\u001b[49m\u001b[43m \u001b[49m\u001b[38;5;241;43m*\u001b[39;49m\u001b[38;5;241;43m*\u001b[39;49m\u001b[43mkwargs\u001b[49m\u001b[43m)\u001b[49m\n",
      "File \u001b[0;32m~/Library/Python/3.9/lib/python/site-packages/sklearn/linear_model/_logistic.py:1209\u001b[0m, in \u001b[0;36mLogisticRegression.fit\u001b[0;34m(self, X, y, sample_weight)\u001b[0m\n\u001b[1;32m   1199\u001b[0m     _dtype \u001b[38;5;241m=\u001b[39m [np\u001b[38;5;241m.\u001b[39mfloat64, np\u001b[38;5;241m.\u001b[39mfloat32]\n\u001b[1;32m   1201\u001b[0m X, y \u001b[38;5;241m=\u001b[39m \u001b[38;5;28mself\u001b[39m\u001b[38;5;241m.\u001b[39m_validate_data(\n\u001b[1;32m   1202\u001b[0m     X,\n\u001b[1;32m   1203\u001b[0m     y,\n\u001b[0;32m   (...)\u001b[0m\n\u001b[1;32m   1207\u001b[0m     accept_large_sparse\u001b[38;5;241m=\u001b[39msolver \u001b[38;5;129;01mnot\u001b[39;00m \u001b[38;5;129;01min\u001b[39;00m [\u001b[38;5;124m\"\u001b[39m\u001b[38;5;124mliblinear\u001b[39m\u001b[38;5;124m\"\u001b[39m, \u001b[38;5;124m\"\u001b[39m\u001b[38;5;124msag\u001b[39m\u001b[38;5;124m\"\u001b[39m, \u001b[38;5;124m\"\u001b[39m\u001b[38;5;124msaga\u001b[39m\u001b[38;5;124m\"\u001b[39m],\n\u001b[1;32m   1208\u001b[0m )\n\u001b[0;32m-> 1209\u001b[0m \u001b[43mcheck_classification_targets\u001b[49m\u001b[43m(\u001b[49m\u001b[43my\u001b[49m\u001b[43m)\u001b[49m\n\u001b[1;32m   1210\u001b[0m \u001b[38;5;28mself\u001b[39m\u001b[38;5;241m.\u001b[39mclasses_ \u001b[38;5;241m=\u001b[39m np\u001b[38;5;241m.\u001b[39munique(y)\n\u001b[1;32m   1212\u001b[0m multi_class \u001b[38;5;241m=\u001b[39m _check_multi_class(\u001b[38;5;28mself\u001b[39m\u001b[38;5;241m.\u001b[39mmulti_class, solver, \u001b[38;5;28mlen\u001b[39m(\u001b[38;5;28mself\u001b[39m\u001b[38;5;241m.\u001b[39mclasses_))\n",
      "File \u001b[0;32m~/Library/Python/3.9/lib/python/site-packages/sklearn/utils/multiclass.py:221\u001b[0m, in \u001b[0;36mcheck_classification_targets\u001b[0;34m(y)\u001b[0m\n\u001b[1;32m    213\u001b[0m y_type \u001b[38;5;241m=\u001b[39m type_of_target(y, input_name\u001b[38;5;241m=\u001b[39m\u001b[38;5;124m\"\u001b[39m\u001b[38;5;124my\u001b[39m\u001b[38;5;124m\"\u001b[39m)\n\u001b[1;32m    214\u001b[0m \u001b[38;5;28;01mif\u001b[39;00m y_type \u001b[38;5;129;01mnot\u001b[39;00m \u001b[38;5;129;01min\u001b[39;00m [\n\u001b[1;32m    215\u001b[0m     \u001b[38;5;124m\"\u001b[39m\u001b[38;5;124mbinary\u001b[39m\u001b[38;5;124m\"\u001b[39m,\n\u001b[1;32m    216\u001b[0m     \u001b[38;5;124m\"\u001b[39m\u001b[38;5;124mmulticlass\u001b[39m\u001b[38;5;124m\"\u001b[39m,\n\u001b[0;32m   (...)\u001b[0m\n\u001b[1;32m    219\u001b[0m     \u001b[38;5;124m\"\u001b[39m\u001b[38;5;124mmultilabel-sequences\u001b[39m\u001b[38;5;124m\"\u001b[39m,\n\u001b[1;32m    220\u001b[0m ]:\n\u001b[0;32m--> 221\u001b[0m     \u001b[38;5;28;01mraise\u001b[39;00m \u001b[38;5;167;01mValueError\u001b[39;00m(\n\u001b[1;32m    222\u001b[0m         \u001b[38;5;124mf\u001b[39m\u001b[38;5;124m\"\u001b[39m\u001b[38;5;124mUnknown label type: \u001b[39m\u001b[38;5;132;01m{\u001b[39;00my_type\u001b[38;5;132;01m}\u001b[39;00m\u001b[38;5;124m. Maybe you are trying to fit a \u001b[39m\u001b[38;5;124m\"\u001b[39m\n\u001b[1;32m    223\u001b[0m         \u001b[38;5;124m\"\u001b[39m\u001b[38;5;124mclassifier, which expects discrete classes on a \u001b[39m\u001b[38;5;124m\"\u001b[39m\n\u001b[1;32m    224\u001b[0m         \u001b[38;5;124m\"\u001b[39m\u001b[38;5;124mregression target with continuous values.\u001b[39m\u001b[38;5;124m\"\u001b[39m\n\u001b[1;32m    225\u001b[0m     )\n",
      "\u001b[0;31mValueError\u001b[0m: Unknown label type: continuous. Maybe you are trying to fit a classifier, which expects discrete classes on a regression target with continuous values."
     ]
    }
   ],
   "source": [
    "X= credit_df\n",
    "y=credit_df['label']\n",
    "\n",
    "X_train, X_test, y_train, y_test = train_test_split(X, y, test_size=0.2, random_state=42)\n",
    "\n",
    "regression = LogisticRegression(random_state=32).fit(X_train, y_train)\n",
    "regression.score(X_test, y_test)"
   ]
  },
  {
   "cell_type": "markdown",
   "metadata": {},
   "source": [
    "It performed well because the score was 1.0, which means perfect"
   ]
  },
  {
   "cell_type": "markdown",
   "metadata": {},
   "source": [
    "(3 pts) Perform normalization on your dataset. Does it change the performance for 2-4? What is the best measure of performance for your dataset (accuracy or something else) and why?"
   ]
  },
  {
   "cell_type": "code",
   "execution_count": null,
   "metadata": {},
   "outputs": [
    {
     "name": "stdout",
     "output_type": "stream",
     "text": [
      "        Ind_ID  CHILDREN  Annual_income  Birthday_count  Employed_days  \\\n",
      "0     0.025065  0.000000       0.020613       -0.028776       0.061884   \n",
      "1     0.025069  0.000000       0.036072       -0.020782      -0.000099   \n",
      "2     0.025069  0.000000       0.036072       -0.024588      -0.000099   \n",
      "3     0.025069  0.000000       0.021918       -0.020782      -0.000099   \n",
      "4     0.025069  0.000000       0.036072       -0.020782      -0.000099   \n",
      "...        ...       ...            ...             ...            ...   \n",
      "1543  0.025164  0.000000       0.021918       -0.018329      -0.000370   \n",
      "1544  0.025139  0.000000       0.025766       -0.015680      -0.000205   \n",
      "1545  0.025601  0.057807       0.020613       -0.020194      -0.000420   \n",
      "1546  0.025612  0.000000       0.030919       -0.023441      -0.000109   \n",
      "1547  0.025290  0.000000       0.025766       -0.025448      -0.000484   \n",
      "\n",
      "      Mobile_phone  Work_Phone     Phone  EMAIL_ID  Family_Members  ...  \\\n",
      "0         0.025416    0.000000  0.000000       0.0        0.021539  ...   \n",
      "1         0.025416    0.055728  0.045691       0.0        0.021539  ...   \n",
      "2         0.025416    0.055728  0.045691       0.0        0.021539  ...   \n",
      "3         0.025416    0.055728  0.045691       0.0        0.021539  ...   \n",
      "4         0.025416    0.055728  0.045691       0.0        0.021539  ...   \n",
      "...            ...         ...       ...       ...             ...  ...   \n",
      "1543      0.025416    0.000000  0.000000       0.0        0.021539  ...   \n",
      "1544      0.025416    0.000000  0.000000       0.0        0.010770  ...   \n",
      "1545      0.025416    0.000000  0.000000       0.0        0.043078  ...   \n",
      "1546      0.025416    0.055728  0.045691       0.0        0.021539  ...   \n",
      "1547      0.025416    0.000000  0.000000       0.0        0.021539  ...   \n",
      "\n",
      "      Type_Occupation_Low-skill Laborers  Type_Occupation_Managers  \\\n",
      "0                                    0.0                  0.000000   \n",
      "1                                    0.0                  0.000000   \n",
      "2                                    0.0                  0.000000   \n",
      "3                                    0.0                  0.000000   \n",
      "4                                    0.0                  0.000000   \n",
      "...                                  ...                       ...   \n",
      "1543                                 0.0                  0.085749   \n",
      "1544                                 0.0                  0.000000   \n",
      "1545                                 0.0                  0.085749   \n",
      "1546                                 0.0                  0.000000   \n",
      "1547                                 0.0                  0.000000   \n",
      "\n",
      "      Type_Occupation_Medicine staff  Type_Occupation_Private service staff  \\\n",
      "0                                0.0                                    0.0   \n",
      "1                                0.0                                    0.0   \n",
      "2                                0.0                                    0.0   \n",
      "3                                0.0                                    0.0   \n",
      "4                                0.0                                    0.0   \n",
      "...                              ...                                    ...   \n",
      "1543                             0.0                                    0.0   \n",
      "1544                             0.0                                    0.0   \n",
      "1545                             0.0                                    0.0   \n",
      "1546                             0.0                                    0.0   \n",
      "1547                             0.0                                    0.0   \n",
      "\n",
      "      Type_Occupation_Realty agents  Type_Occupation_Sales staff  \\\n",
      "0                               0.0                          0.0   \n",
      "1                               0.0                          0.0   \n",
      "2                               0.0                          0.0   \n",
      "3                               0.0                          0.0   \n",
      "4                               0.0                          0.0   \n",
      "...                             ...                          ...   \n",
      "1543                            0.0                          0.0   \n",
      "1544                            0.0                          0.0   \n",
      "1545                            0.0                          0.0   \n",
      "1546                            0.0                          0.0   \n",
      "1547                            0.0                          0.0   \n",
      "\n",
      "      Type_Occupation_Secretaries  Type_Occupation_Security staff  \\\n",
      "0                             0.0                             0.0   \n",
      "1                             0.0                             0.0   \n",
      "2                             0.0                             0.0   \n",
      "3                             0.0                             0.0   \n",
      "4                             0.0                             0.0   \n",
      "...                           ...                             ...   \n",
      "1543                          0.0                             0.0   \n",
      "1544                          0.0                             0.0   \n",
      "1545                          0.0                             0.0   \n",
      "1546                          0.0                             0.0   \n",
      "1547                          0.0                             0.0   \n",
      "\n",
      "      Type_Occupation_Waiters/barmen staff     label  \n",
      "0                                      0.0  0.075593  \n",
      "1                                      0.0  0.075593  \n",
      "2                                      0.0  0.075593  \n",
      "3                                      0.0  0.075593  \n",
      "4                                      0.0  0.075593  \n",
      "...                                    ...       ...  \n",
      "1543                                   0.0  0.000000  \n",
      "1544                                   0.0  0.000000  \n",
      "1545                                   0.0  0.000000  \n",
      "1546                                   0.0  0.000000  \n",
      "1547                                   0.0  0.000000  \n",
      "\n",
      "[1548 rows x 55 columns]\n"
     ]
    }
   ],
   "source": [
    "normal = preprocessing.normalize(credit_df, axis=0)\n",
    "normal_df = pd.DataFrame(normal, columns=credit_df.columns)\n",
    "print(normal_df)"
   ]
  },
  {
   "cell_type": "markdown",
   "metadata": {},
   "source": [
    "Extra credit (3 pts): Use type hints in your functions to make sure you are using the right types when you call the functions"
   ]
  },
  {
   "cell_type": "code",
   "execution_count": null,
   "metadata": {},
   "outputs": [],
   "source": []
  }
 ],
 "metadata": {
  "kernelspec": {
   "display_name": "Python 3",
   "language": "python",
   "name": "python3"
  },
  "language_info": {
   "codemirror_mode": {
    "name": "ipython",
    "version": 3
   },
   "file_extension": ".py",
   "mimetype": "text/x-python",
   "name": "python",
   "nbconvert_exporter": "python",
   "pygments_lexer": "ipython3",
   "version": "3.9.6"
  }
 },
 "nbformat": 4,
 "nbformat_minor": 2
}
