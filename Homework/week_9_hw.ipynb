{
 "cells": [
  {
   "cell_type": "code",
   "execution_count": 107,
   "metadata": {},
   "outputs": [],
   "source": [
    "import pandas as pd\n",
    "import numpy as np\n",
    "import matplotlib.pyplot as plt\n",
    "from sklearn.model_selection import train_test_split\n",
    "from sklearn.preprocessing import StandardScaler\n",
    "from sklearn.linear_model import LinearRegression\n",
    "from typing import List, Tuple\n",
    "from sklearn.linear_model import LogisticRegression\n",
    "from sklearn.neighbors import KNeighborsClassifier\n",
    "from sklearn.metrics import accuracy_score\n",
    "from sklearn import preprocessing\n",
    "from sklearn.metrics import r2_score\n",
    "from sklearn.metrics import ConfusionMatrixDisplay\n",
    "import sklearn.metrics as metrics\n",
    "from sklearn.metrics import roc_auc_score\n",
    "from sklearn.svm import SVC\n",
    "from sklearn import svm\n",
    "card_df = pd.read_csv('Credit_card.csv')\n",
    "label_df = pd.read_csv('Credit_card_label.csv')"
   ]
  },
  {
   "cell_type": "markdown",
   "metadata": {},
   "source": [
    "This is the cleaning from Week 6, I simply merged the two datasets together to make it easier for machine learning"
   ]
  },
  {
   "cell_type": "code",
   "execution_count": 108,
   "metadata": {},
   "outputs": [],
   "source": [
    "credit_df = pd.merge(card_df,label_df)\n"
   ]
  },
  {
   "cell_type": "markdown",
   "metadata": {},
   "source": [
    "This is the new preprocessing "
   ]
  },
  {
   "cell_type": "code",
   "execution_count": 109,
   "metadata": {},
   "outputs": [],
   "source": [
    "credit_df = pd.get_dummies(credit_df)\n",
    "#This changes categorical to numerical- from 0-1. This makes it easier for the machine to read\n"
   ]
  },
  {
   "cell_type": "code",
   "execution_count": 110,
   "metadata": {},
   "outputs": [],
   "source": [
    "credit_df.fillna(credit_df.mean(), inplace=True)\n",
    "#This removed all the NaN that may be present in the data, allowing for the machine to read it better"
   ]
  },
  {
   "cell_type": "code",
   "execution_count": 111,
   "metadata": {},
   "outputs": [],
   "source": [
    "from sklearn.preprocessing import MinMaxScaler\n",
    "scaler = MinMaxScaler()\n",
    "ncredit_df = scaler.fit_transform(credit_df)\n",
    "#This normalized the data so that there are less instances of error\n"
   ]
  },
  {
   "cell_type": "code",
   "execution_count": 112,
   "metadata": {},
   "outputs": [
    {
     "data": {
      "text/html": [
       "<div>\n",
       "<style scoped>\n",
       "    .dataframe tbody tr th:only-of-type {\n",
       "        vertical-align: middle;\n",
       "    }\n",
       "\n",
       "    .dataframe tbody tr th {\n",
       "        vertical-align: top;\n",
       "    }\n",
       "\n",
       "    .dataframe thead th {\n",
       "        text-align: right;\n",
       "    }\n",
       "</style>\n",
       "<table border=\"1\" class=\"dataframe\">\n",
       "  <thead>\n",
       "    <tr style=\"text-align: right;\">\n",
       "      <th></th>\n",
       "      <th>Ind_ID</th>\n",
       "      <th>CHILDREN</th>\n",
       "      <th>Annual_income</th>\n",
       "      <th>Birthday_count</th>\n",
       "      <th>Employed_days</th>\n",
       "      <th>Mobile_phone</th>\n",
       "      <th>Work_Phone</th>\n",
       "      <th>Phone</th>\n",
       "      <th>EMAIL_ID</th>\n",
       "      <th>Family_Members</th>\n",
       "      <th>...</th>\n",
       "      <th>Type_Occupation_Laborers</th>\n",
       "      <th>Type_Occupation_Low-skill Laborers</th>\n",
       "      <th>Type_Occupation_Managers</th>\n",
       "      <th>Type_Occupation_Medicine staff</th>\n",
       "      <th>Type_Occupation_Private service staff</th>\n",
       "      <th>Type_Occupation_Realty agents</th>\n",
       "      <th>Type_Occupation_Sales staff</th>\n",
       "      <th>Type_Occupation_Secretaries</th>\n",
       "      <th>Type_Occupation_Security staff</th>\n",
       "      <th>Type_Occupation_Waiters/barmen staff</th>\n",
       "    </tr>\n",
       "  </thead>\n",
       "  <tbody>\n",
       "    <tr>\n",
       "      <th>0</th>\n",
       "      <td>5008827</td>\n",
       "      <td>0</td>\n",
       "      <td>180000.00000</td>\n",
       "      <td>-18772.000000</td>\n",
       "      <td>365243</td>\n",
       "      <td>1</td>\n",
       "      <td>0</td>\n",
       "      <td>0</td>\n",
       "      <td>0</td>\n",
       "      <td>2</td>\n",
       "      <td>...</td>\n",
       "      <td>False</td>\n",
       "      <td>False</td>\n",
       "      <td>False</td>\n",
       "      <td>False</td>\n",
       "      <td>False</td>\n",
       "      <td>False</td>\n",
       "      <td>False</td>\n",
       "      <td>False</td>\n",
       "      <td>False</td>\n",
       "      <td>False</td>\n",
       "    </tr>\n",
       "    <tr>\n",
       "      <th>1</th>\n",
       "      <td>5009744</td>\n",
       "      <td>0</td>\n",
       "      <td>315000.00000</td>\n",
       "      <td>-13557.000000</td>\n",
       "      <td>-586</td>\n",
       "      <td>1</td>\n",
       "      <td>1</td>\n",
       "      <td>1</td>\n",
       "      <td>0</td>\n",
       "      <td>2</td>\n",
       "      <td>...</td>\n",
       "      <td>False</td>\n",
       "      <td>False</td>\n",
       "      <td>False</td>\n",
       "      <td>False</td>\n",
       "      <td>False</td>\n",
       "      <td>False</td>\n",
       "      <td>False</td>\n",
       "      <td>False</td>\n",
       "      <td>False</td>\n",
       "      <td>False</td>\n",
       "    </tr>\n",
       "    <tr>\n",
       "      <th>2</th>\n",
       "      <td>5009746</td>\n",
       "      <td>0</td>\n",
       "      <td>315000.00000</td>\n",
       "      <td>-16040.342071</td>\n",
       "      <td>-586</td>\n",
       "      <td>1</td>\n",
       "      <td>1</td>\n",
       "      <td>1</td>\n",
       "      <td>0</td>\n",
       "      <td>2</td>\n",
       "      <td>...</td>\n",
       "      <td>False</td>\n",
       "      <td>False</td>\n",
       "      <td>False</td>\n",
       "      <td>False</td>\n",
       "      <td>False</td>\n",
       "      <td>False</td>\n",
       "      <td>False</td>\n",
       "      <td>False</td>\n",
       "      <td>False</td>\n",
       "      <td>False</td>\n",
       "    </tr>\n",
       "    <tr>\n",
       "      <th>3</th>\n",
       "      <td>5009749</td>\n",
       "      <td>0</td>\n",
       "      <td>191399.32623</td>\n",
       "      <td>-13557.000000</td>\n",
       "      <td>-586</td>\n",
       "      <td>1</td>\n",
       "      <td>1</td>\n",
       "      <td>1</td>\n",
       "      <td>0</td>\n",
       "      <td>2</td>\n",
       "      <td>...</td>\n",
       "      <td>False</td>\n",
       "      <td>False</td>\n",
       "      <td>False</td>\n",
       "      <td>False</td>\n",
       "      <td>False</td>\n",
       "      <td>False</td>\n",
       "      <td>False</td>\n",
       "      <td>False</td>\n",
       "      <td>False</td>\n",
       "      <td>False</td>\n",
       "    </tr>\n",
       "    <tr>\n",
       "      <th>4</th>\n",
       "      <td>5009752</td>\n",
       "      <td>0</td>\n",
       "      <td>315000.00000</td>\n",
       "      <td>-13557.000000</td>\n",
       "      <td>-586</td>\n",
       "      <td>1</td>\n",
       "      <td>1</td>\n",
       "      <td>1</td>\n",
       "      <td>0</td>\n",
       "      <td>2</td>\n",
       "      <td>...</td>\n",
       "      <td>False</td>\n",
       "      <td>False</td>\n",
       "      <td>False</td>\n",
       "      <td>False</td>\n",
       "      <td>False</td>\n",
       "      <td>False</td>\n",
       "      <td>False</td>\n",
       "      <td>False</td>\n",
       "      <td>False</td>\n",
       "      <td>False</td>\n",
       "    </tr>\n",
       "    <tr>\n",
       "      <th>...</th>\n",
       "      <td>...</td>\n",
       "      <td>...</td>\n",
       "      <td>...</td>\n",
       "      <td>...</td>\n",
       "      <td>...</td>\n",
       "      <td>...</td>\n",
       "      <td>...</td>\n",
       "      <td>...</td>\n",
       "      <td>...</td>\n",
       "      <td>...</td>\n",
       "      <td>...</td>\n",
       "      <td>...</td>\n",
       "      <td>...</td>\n",
       "      <td>...</td>\n",
       "      <td>...</td>\n",
       "      <td>...</td>\n",
       "      <td>...</td>\n",
       "      <td>...</td>\n",
       "      <td>...</td>\n",
       "      <td>...</td>\n",
       "      <td>...</td>\n",
       "    </tr>\n",
       "    <tr>\n",
       "      <th>1543</th>\n",
       "      <td>5028645</td>\n",
       "      <td>0</td>\n",
       "      <td>191399.32623</td>\n",
       "      <td>-11957.000000</td>\n",
       "      <td>-2182</td>\n",
       "      <td>1</td>\n",
       "      <td>0</td>\n",
       "      <td>0</td>\n",
       "      <td>0</td>\n",
       "      <td>2</td>\n",
       "      <td>...</td>\n",
       "      <td>False</td>\n",
       "      <td>False</td>\n",
       "      <td>True</td>\n",
       "      <td>False</td>\n",
       "      <td>False</td>\n",
       "      <td>False</td>\n",
       "      <td>False</td>\n",
       "      <td>False</td>\n",
       "      <td>False</td>\n",
       "      <td>False</td>\n",
       "    </tr>\n",
       "    <tr>\n",
       "      <th>1544</th>\n",
       "      <td>5023655</td>\n",
       "      <td>0</td>\n",
       "      <td>225000.00000</td>\n",
       "      <td>-10229.000000</td>\n",
       "      <td>-1209</td>\n",
       "      <td>1</td>\n",
       "      <td>0</td>\n",
       "      <td>0</td>\n",
       "      <td>0</td>\n",
       "      <td>1</td>\n",
       "      <td>...</td>\n",
       "      <td>False</td>\n",
       "      <td>False</td>\n",
       "      <td>False</td>\n",
       "      <td>False</td>\n",
       "      <td>False</td>\n",
       "      <td>False</td>\n",
       "      <td>False</td>\n",
       "      <td>False</td>\n",
       "      <td>False</td>\n",
       "      <td>False</td>\n",
       "    </tr>\n",
       "    <tr>\n",
       "      <th>1545</th>\n",
       "      <td>5115992</td>\n",
       "      <td>2</td>\n",
       "      <td>180000.00000</td>\n",
       "      <td>-13174.000000</td>\n",
       "      <td>-2477</td>\n",
       "      <td>1</td>\n",
       "      <td>0</td>\n",
       "      <td>0</td>\n",
       "      <td>0</td>\n",
       "      <td>4</td>\n",
       "      <td>...</td>\n",
       "      <td>False</td>\n",
       "      <td>False</td>\n",
       "      <td>True</td>\n",
       "      <td>False</td>\n",
       "      <td>False</td>\n",
       "      <td>False</td>\n",
       "      <td>False</td>\n",
       "      <td>False</td>\n",
       "      <td>False</td>\n",
       "      <td>False</td>\n",
       "    </tr>\n",
       "    <tr>\n",
       "      <th>1546</th>\n",
       "      <td>5118219</td>\n",
       "      <td>0</td>\n",
       "      <td>270000.00000</td>\n",
       "      <td>-15292.000000</td>\n",
       "      <td>-645</td>\n",
       "      <td>1</td>\n",
       "      <td>1</td>\n",
       "      <td>1</td>\n",
       "      <td>0</td>\n",
       "      <td>2</td>\n",
       "      <td>...</td>\n",
       "      <td>False</td>\n",
       "      <td>False</td>\n",
       "      <td>False</td>\n",
       "      <td>False</td>\n",
       "      <td>False</td>\n",
       "      <td>False</td>\n",
       "      <td>False</td>\n",
       "      <td>False</td>\n",
       "      <td>False</td>\n",
       "      <td>False</td>\n",
       "    </tr>\n",
       "    <tr>\n",
       "      <th>1547</th>\n",
       "      <td>5053790</td>\n",
       "      <td>0</td>\n",
       "      <td>225000.00000</td>\n",
       "      <td>-16601.000000</td>\n",
       "      <td>-2859</td>\n",
       "      <td>1</td>\n",
       "      <td>0</td>\n",
       "      <td>0</td>\n",
       "      <td>0</td>\n",
       "      <td>2</td>\n",
       "      <td>...</td>\n",
       "      <td>False</td>\n",
       "      <td>False</td>\n",
       "      <td>False</td>\n",
       "      <td>False</td>\n",
       "      <td>False</td>\n",
       "      <td>False</td>\n",
       "      <td>False</td>\n",
       "      <td>False</td>\n",
       "      <td>False</td>\n",
       "      <td>False</td>\n",
       "    </tr>\n",
       "  </tbody>\n",
       "</table>\n",
       "<p>1548 rows × 55 columns</p>\n",
       "</div>"
      ],
      "text/plain": [
       "       Ind_ID  CHILDREN  Annual_income  Birthday_count  Employed_days  \\\n",
       "0     5008827         0   180000.00000   -18772.000000         365243   \n",
       "1     5009744         0   315000.00000   -13557.000000           -586   \n",
       "2     5009746         0   315000.00000   -16040.342071           -586   \n",
       "3     5009749         0   191399.32623   -13557.000000           -586   \n",
       "4     5009752         0   315000.00000   -13557.000000           -586   \n",
       "...       ...       ...            ...             ...            ...   \n",
       "1543  5028645         0   191399.32623   -11957.000000          -2182   \n",
       "1544  5023655         0   225000.00000   -10229.000000          -1209   \n",
       "1545  5115992         2   180000.00000   -13174.000000          -2477   \n",
       "1546  5118219         0   270000.00000   -15292.000000           -645   \n",
       "1547  5053790         0   225000.00000   -16601.000000          -2859   \n",
       "\n",
       "      Mobile_phone  Work_Phone  Phone  EMAIL_ID  Family_Members  ...  \\\n",
       "0                1           0      0         0               2  ...   \n",
       "1                1           1      1         0               2  ...   \n",
       "2                1           1      1         0               2  ...   \n",
       "3                1           1      1         0               2  ...   \n",
       "4                1           1      1         0               2  ...   \n",
       "...            ...         ...    ...       ...             ...  ...   \n",
       "1543             1           0      0         0               2  ...   \n",
       "1544             1           0      0         0               1  ...   \n",
       "1545             1           0      0         0               4  ...   \n",
       "1546             1           1      1         0               2  ...   \n",
       "1547             1           0      0         0               2  ...   \n",
       "\n",
       "      Type_Occupation_Laborers  Type_Occupation_Low-skill Laborers  \\\n",
       "0                        False                               False   \n",
       "1                        False                               False   \n",
       "2                        False                               False   \n",
       "3                        False                               False   \n",
       "4                        False                               False   \n",
       "...                        ...                                 ...   \n",
       "1543                     False                               False   \n",
       "1544                     False                               False   \n",
       "1545                     False                               False   \n",
       "1546                     False                               False   \n",
       "1547                     False                               False   \n",
       "\n",
       "      Type_Occupation_Managers  Type_Occupation_Medicine staff  \\\n",
       "0                        False                           False   \n",
       "1                        False                           False   \n",
       "2                        False                           False   \n",
       "3                        False                           False   \n",
       "4                        False                           False   \n",
       "...                        ...                             ...   \n",
       "1543                      True                           False   \n",
       "1544                     False                           False   \n",
       "1545                      True                           False   \n",
       "1546                     False                           False   \n",
       "1547                     False                           False   \n",
       "\n",
       "      Type_Occupation_Private service staff  Type_Occupation_Realty agents  \\\n",
       "0                                     False                          False   \n",
       "1                                     False                          False   \n",
       "2                                     False                          False   \n",
       "3                                     False                          False   \n",
       "4                                     False                          False   \n",
       "...                                     ...                            ...   \n",
       "1543                                  False                          False   \n",
       "1544                                  False                          False   \n",
       "1545                                  False                          False   \n",
       "1546                                  False                          False   \n",
       "1547                                  False                          False   \n",
       "\n",
       "      Type_Occupation_Sales staff  Type_Occupation_Secretaries  \\\n",
       "0                           False                        False   \n",
       "1                           False                        False   \n",
       "2                           False                        False   \n",
       "3                           False                        False   \n",
       "4                           False                        False   \n",
       "...                           ...                          ...   \n",
       "1543                        False                        False   \n",
       "1544                        False                        False   \n",
       "1545                        False                        False   \n",
       "1546                        False                        False   \n",
       "1547                        False                        False   \n",
       "\n",
       "      Type_Occupation_Security staff  Type_Occupation_Waiters/barmen staff  \n",
       "0                              False                                 False  \n",
       "1                              False                                 False  \n",
       "2                              False                                 False  \n",
       "3                              False                                 False  \n",
       "4                              False                                 False  \n",
       "...                              ...                                   ...  \n",
       "1543                           False                                 False  \n",
       "1544                           False                                 False  \n",
       "1545                           False                                 False  \n",
       "1546                           False                                 False  \n",
       "1547                           False                                 False  \n",
       "\n",
       "[1548 rows x 55 columns]"
      ]
     },
     "execution_count": 112,
     "metadata": {},
     "output_type": "execute_result"
    }
   ],
   "source": [
    "credit_df"
   ]
  },
  {
   "cell_type": "markdown",
   "metadata": {},
   "source": [
    "(8 pts) Perform combined, oversampling, or undersampling on the dataset you selected for Assignment 6.  Explain why you chose what you did. How did this impact the results of your KNN and Logistic Regression? "
   ]
  },
  {
   "cell_type": "code",
   "execution_count": 113,
   "metadata": {},
   "outputs": [],
   "source": [
    "X = credit_df.drop('label', axis =1)\n",
    "y =credit_df['label']\n",
    "\n",
    "\n",
    "X_train, X_test, y_train, y_test =  train_test_split(X, y,\n",
    "                                                     test_size=0.3,\n",
    "                                                     random_state =32,\n",
    "                                                     stratify = y)\n"
   ]
  },
  {
   "cell_type": "code",
   "execution_count": 114,
   "metadata": {},
   "outputs": [
    {
     "name": "stderr",
     "output_type": "stream",
     "text": [
      "/Users/aarushichoudhary/Library/Python/3.9/lib/python/site-packages/sklearn/linear_model/_logistic.py:469: ConvergenceWarning: lbfgs failed to converge (status=1):\n",
      "STOP: TOTAL NO. of ITERATIONS REACHED LIMIT.\n",
      "\n",
      "Increase the number of iterations (max_iter) or scale the data as shown in:\n",
      "    https://scikit-learn.org/stable/modules/preprocessing.html\n",
      "Please also refer to the documentation for alternative solver options:\n",
      "    https://scikit-learn.org/stable/modules/linear_model.html#logistic-regression\n",
      "  n_iter_i = _check_optimize_result(\n"
     ]
    }
   ],
   "source": [
    "from imblearn.over_sampling import RandomOverSampler\n",
    "\n",
    "ros = RandomOverSampler(random_state=32)\n",
    "X_resampled, y_resampled = ros.fit_resample(X_train, y_train)\n",
    "\n",
    "model = LogisticRegression(random_state=32)\n",
    "model.fit(X_resampled, y_resampled)\n",
    "\n",
    "y_pred = model.predict(X_test)"
   ]
  },
  {
   "cell_type": "code",
   "execution_count": 115,
   "metadata": {},
   "outputs": [
    {
     "data": {
      "text/plain": [
       "<sklearn.metrics._plot.confusion_matrix.ConfusionMatrixDisplay at 0x14d53ef40>"
      ]
     },
     "execution_count": 115,
     "metadata": {},
     "output_type": "execute_result"
    },
    {
     "data": {
      "image/png": "[encoded data removed]",
      "text/plain": [
       "<Figure size 640x480 with 2 Axes>"
      ]
     },
     "metadata": {},
     "output_type": "display_data"
    }
   ],
   "source": [
    "ConfusionMatrixDisplay.from_estimator(model, X_test, y_test)"
   ]
  },
  {
   "cell_type": "code",
   "execution_count": 128,
   "metadata": {},
   "outputs": [
    {
     "name": "stdout",
     "output_type": "stream",
     "text": [
      "Optimal value of k: 15\n"
     ]
    }
   ],
   "source": [
    "sc = StandardScaler()\n",
    "def find_optimal_k(X_train, y_train, X_test, y_test, max_k=20):\n",
    "    accuracy_values = []\n",
    "    \n",
    "    for k in range(1, 20):\n",
    "        knn_model = KNeighborsClassifier(n_neighbors=k)\n",
    "        X_train = sc.fit_transform(X_train)\n",
    "        X_test = sc.fit_transform(X_test)   \n",
    "        knn_model.fit(X_train, y_train)\n",
    "        y_pred = knn_model.predict(X_test)\n",
    "        accuracy = accuracy_score(y_test, y_pred)\n",
    "        accuracy_values.append(accuracy)\n",
    "    optimal_k = accuracy_values.index(max(accuracy_values))\n",
    "    print(f\"Optimal value of k: {optimal_k}\")\n",
    "    return optimal_k\n",
    "optimal_k = find_optimal_k(X_train, y_train, X_test, y_test)"
   ]
  },
  {
   "cell_type": "code",
   "execution_count": 129,
   "metadata": {},
   "outputs": [
    {
     "data": {
      "text/plain": [
       "-0.12864077669902918"
      ]
     },
     "execution_count": 129,
     "metadata": {},
     "output_type": "execute_result"
    }
   ],
   "source": [
    "regression_model = LogisticRegression()\n",
    "regression_model.fit(X_train, y_train)\n",
    "y_pred = regression_model.predict(X_test)\n",
    "r2_score(y_test, y_pred)"
   ]
  },
  {
   "cell_type": "markdown",
   "metadata": {},
   "source": [
    "I oversampled my data because I felt that the data wasn't making detailed predictions. It increased my KNN and decreased my logistic regression. "
   ]
  },
  {
   "cell_type": "markdown",
   "metadata": {},
   "source": [
    " Create an ROC Curve for the model and calculate the AUC"
   ]
  },
  {
   "cell_type": "code",
   "execution_count": 116,
   "metadata": {},
   "outputs": [],
   "source": [
    "X = credit_df.drop('label', axis =1)\n",
    "y =credit_df['label']\n",
    "\n",
    "\n",
    "X_train, X_test, y_train, y_test =  train_test_split(X, y,\n",
    "                                                     test_size=0.3,\n",
    "                                                     random_state =32,\n",
    "                                                     stratify = y)\n",
    "\n"
   ]
  },
  {
   "cell_type": "code",
   "execution_count": 117,
   "metadata": {},
   "outputs": [
    {
     "data": {
      "image/png": "[encoded data removed]",
      "text/plain": [
       "<Figure size 640x480 with 1 Axes>"
      ]
     },
     "metadata": {},
     "output_type": "display_data"
    }
   ],
   "source": [
    "def roc_curve(probs, preds):\n",
    "    probs = model.predict_proba(X_test)\n",
    "    preds = probs[:,1]\n",
    "    fpr, tpr, threshold = metrics.roc_curve(y_test, preds)\n",
    "    roc_auc = metrics.auc(fpr, tpr)\n",
    "    return roc_curve\n",
    "\n",
    "\n",
    "plt.title('ROC')\n",
    "plt.plot(fpr, tpr, 'b', label = 'AUC = %0.2f' % roc_auc)\n",
    "plt.legend(loc = 'lower right')\n",
    "plt.plot([0, 1], [0, 1],'r--')\n",
    "plt.xlim([0, 1])\n",
    "plt.ylim([0, 1])\n",
    "plt.ylabel('True Positive Rate')\n",
    "plt.xlabel('False Positive Rate')\n",
    "plt.show()"
   ]
  },
  {
   "cell_type": "code",
   "execution_count": 118,
   "metadata": {},
   "outputs": [
    {
     "name": "stdout",
     "output_type": "stream",
     "text": [
      "0.5658333333333334\n"
     ]
    }
   ],
   "source": [
    "def calculate_auc(X_train, X_test, y_train, y_test):\n",
    "    X_train, X_test, y_train, y_test = train_test_split(X, y, test_size=0.2, random_state=42)\n",
    "    clf = LogisticRegression() \n",
    "    clf.fit(X_train, y_train)\n",
    "    y_proba = clf.predict_proba(X_test)[:, 1]\n",
    "    auc_roc = roc_auc_score(y_test, y_proba)\n",
    "    return auc_roc\n",
    "print(auc_roc)"
   ]
  },
  {
   "cell_type": "markdown",
   "metadata": {},
   "source": [
    "Perform linear SVM"
   ]
  },
  {
   "cell_type": "code",
   "execution_count": 127,
   "metadata": {},
   "outputs": [
    {
     "name": "stdout",
     "output_type": "stream",
     "text": [
      "0.886021505376344\n"
     ]
    }
   ],
   "source": [
    "def train_linear_svm(X, y):\n",
    "    svm_classifier = SVC(kernel='linear')\n",
    "    svm_classifier.fit(X, y)\n",
    "    return svm_classifier\n",
    "\n",
    "def evaluate_linear_svm(model, X_test, y_test):\n",
    "    y_pred = model.predict(X_test)\n",
    "    accuracy = accuracy_score(y_test, y_pred)\n",
    "    return accuracy\n",
    "\n",
    "svm_model = train_linear_svm(X_train, y_train)\n",
    "\n",
    "svm = evaluate_linear_svm(svm_model, X_test, y_test)\n",
    "print(svm)"
   ]
  },
  {
   "cell_type": "markdown",
   "metadata": {},
   "source": [
    "It performed pretty well since the number was pretty high"
   ]
  },
  {
   "cell_type": "markdown",
   "metadata": {},
   "source": [
    "What is outlier detection? Why is it important? What methods can you use for outlier detection?"
   ]
  },
  {
   "cell_type": "markdown",
   "metadata": {},
   "source": [
    "Outlier detection is the process of identifying points of data that deviate from the rest of the dataset. It helps detect errors or observations that are unexpected. It is important because it helps us understand how well a dataset performs, and whether we can use it. Some methods for outlier detection are machine learning algorithims like Logistic Regression and KNN."
   ]
  }
 ],
 "metadata": {
  "kernelspec": {
   "display_name": "Python 3",
   "language": "python",
   "name": "python3"
  },
  "language_info": {
   "codemirror_mode": {
    "name": "ipython",
    "version": 3
   },
   "file_extension": ".py",
   "mimetype": "text/x-python",
   "name": "python",
   "nbconvert_exporter": "python",
   "pygments_lexer": "ipython3",
   "version": "3.9.6"
  }
 },
 "nbformat": 4,
 "nbformat_minor": 2
}
