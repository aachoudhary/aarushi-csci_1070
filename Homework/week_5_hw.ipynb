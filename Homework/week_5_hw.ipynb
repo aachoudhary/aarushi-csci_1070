{
 "cells": [
  {
   "cell_type": "markdown",
   "metadata": {},
   "source": [
    "(5 pts) In 250-500 words, write a thorough explanation in markdown in your notebook of when to use ML and when not to. Do NOT go over the 500-word limit. It is essential to express this concisely. You may need to do additional research on this than what exists in the readings."
   ]
  },
  {
   "cell_type": "markdown",
   "metadata": {},
   "source": [
    "(6 pts) Perform pre-processing on the dataset. Clearly use markdown to indicate each pre-processing step you are using. Note: you should use at least three different techniques. Depending on your dataset you may need to create new columns from the existent data you have.\n"
   ]
  },
  {
   "cell_type": "markdown",
   "metadata": {},
   "source": [
    "(3 pts) Create a correlation matrix with a heatmap for the features. Use markdown to write about your takeaways in under 200 words. Perform feature selection from this. You should likely not be selecting more than 10 features. \n"
   ]
  },
  {
   "cell_type": "markdown",
   "metadata": {},
   "source": [
    "(3 pts) Create a box and whisker plot for loan_amounts if using the Lending Club dataset and fare if using the Titanic dataset. How do you handle the null values? What does this box and whisker plot show you?\n"
   ]
  },
  {
   "cell_type": "markdown",
   "metadata": {},
   "source": [
    "(5 pts) If using the Lending Club dataset: create a new column called region that uses a lambda and shows which part of the US someone lives in, split up into Pacific, Plains, Midwest, Northeast, and South. If using the Titanic dataset: create a new column called age_bin that groups people into at least 4 age ranges. \n",
    "Either use two different lambdas or a lambda and a different technique and see which one is more performant. Explain your findings in markdown. (use a timer to determine performance: check useful references below to see how timers work) "
   ]
  },
  {
   "cell_type": "markdown",
   "metadata": {},
   "source": [
    "(3 pts) If using the Lending Club dataset create subplot histograms to show if loan_amounts differ by region. If using the Titanic dataset, create subplot histograms to show how fares differ by age_bin. \n",
    "Summarize your findings in under 200 words."
   ]
  }
 ],
 "metadata": {
  "language_info": {
   "name": "python"
  }
 },
 "nbformat": 4,
 "nbformat_minor": 2
}
