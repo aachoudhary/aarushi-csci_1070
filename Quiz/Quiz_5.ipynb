{
 "cells": [
  {
   "cell_type": "markdown",
   "metadata": {},
   "source": [
    "(2 pts) Write a lambda function to rearrange positive and negative numbers in a given list\n",
    "\n",
    "Sample output:\n",
    "original_list = [-1,2,-3,4,-5,6,-7,8,-9,10,-11,12]\n",
    "\n",
    "resulting_list = [2,4,6,8,10,12,-11,-9,-7,-5,-3,-1]\n"
   ]
  },
  {
   "cell_type": "code",
   "execution_count": 103,
   "metadata": {},
   "outputs": [
    {
     "name": "stdout",
     "output_type": "stream",
     "text": [
      "[2, 4, 6, 8, 10, 12, -11, -9, -7, -5, -3, -1]\n"
     ]
    }
   ],
   "source": [
    "list=[-1,2,-3,4,-5,6,-7,8,-9,10,-11,12]\n",
    "result = sorted(list, key=lambda i : \n",
    "                0 if i==0\n",
    "                else -1/i)\n",
    "print(result)"
   ]
  },
  {
   "cell_type": "markdown",
   "metadata": {},
   "source": [
    "(3 pts) Clean the JEOPARDY_DATA.csv so that `round` uses one-hot encoding instead of categorical values AND the `value` column shows a decimal type when you do a type check. HINT: you may need to clean up the column names to make this easier.\n"
   ]
  },
  {
   "cell_type": "code",
   "execution_count": 104,
   "metadata": {},
   "outputs": [],
   "source": [
    "import pandas as pd\n",
    "import numpy as np\n",
    "import matplotlib.pyplot as plt\n",
    "df = pd.read_csv('JEOPARDY_DATA.csv')\n",
    "df.columns = df.columns.str.strip().str.lower()\n",
    "one_hot=pd.get_dummies(df['round'])\n",
    "df=df.drop('round',axis=1)\n",
    "df=df.join(one_hot)"
   ]
  },
  {
   "cell_type": "code",
   "execution_count": 120,
   "metadata": {},
   "outputs": [
    {
     "data": {
      "text/plain": [
       "show number          int64\n",
       "air date            object\n",
       "category            object\n",
       "value               object\n",
       "question            object\n",
       "answer              object\n",
       "Double Jeopardy!      bool\n",
       "Final Jeopardy!       bool\n",
       "Jeopardy!             bool\n",
       "Tiebreaker            bool\n",
       "dtype: object"
      ]
     },
     "execution_count": 120,
     "metadata": {},
     "output_type": "execute_result"
    }
   ],
   "source": [
    "from decimal import Decimal\n",
    "df['value'] = df['value'].replace('[$,]', '',regex=True).astype(float)\n",
    "df['value'] = df['value'].apply(Decimal)\n",
    "\n",
    "df.dtypes"
   ]
  },
  {
   "cell_type": "markdown",
   "metadata": {},
   "source": [
    "Bonus (1 pt): Why do you think it might be inconvenient that python does not have a \"first-class\" money type and that you have to use a decimal type instead?"
   ]
  },
  {
   "cell_type": "markdown",
   "metadata": {},
   "source": [
    "Using decimals for money in Python can be tricky. It requires manual work and can be error-prone compared to languages with built-in money types. These make handling money easier and less likely to have mistakes."
   ]
  }
 ],
 "metadata": {
  "kernelspec": {
   "display_name": "Python 3",
   "language": "python",
   "name": "python3"
  },
  "language_info": {
   "codemirror_mode": {
    "name": "ipython",
    "version": 3
   },
   "file_extension": ".py",
   "mimetype": "text/x-python",
   "name": "python",
   "nbconvert_exporter": "python",
   "pygments_lexer": "ipython3",
   "version": "3.9.6"
  }
 },
 "nbformat": 4,
 "nbformat_minor": 2
}
