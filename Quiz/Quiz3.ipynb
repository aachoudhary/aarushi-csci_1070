{
 "cells": [
  {
   "cell_type": "code",
   "execution_count": 1,
   "metadata": {},
   "outputs": [
    {
     "name": "stdout",
     "output_type": "stream",
     "text": [
      "          neighbourhood  average_price  total_reviews  max_availability_365\n",
      "0        Belize Islands     399.442824          22995                   365\n",
      "1       Belize Mainland     288.273063           4105                   365\n",
      "2                  Cayo     205.847525           7356                   365\n",
      "3               Corozal     156.553846            492                   365\n",
      "4           Orange Walk     122.035714            415                   365\n",
      "5   Stann Creek Islands    1136.166667             69                   365\n",
      "6  Stann Creek Mainland     456.994690           4786                   365\n",
      "7       Toledo Mainland     222.978723            194                   365\n"
     ]
    },
    {
     "name": "stderr",
     "output_type": "stream",
     "text": [
      "/var/folders/68/jgh30zmn54z999vhrzlb3zbc0000gn/T/ipykernel_19296/1352901573.py:1: DeprecationWarning: \n",
      "Pyarrow will become a required dependency of pandas in the next major release of pandas (pandas 3.0),\n",
      "(to allow more performant data types, such as the Arrow string type, and better interoperability with other libraries)\n",
      "but was not found to be installed on your system.\n",
      "If this would cause problems for you,\n",
      "please provide us feedback at https://github.com/pandas-dev/pandas/issues/54466\n",
      "        \n",
      "  import pandas as pd\n"
     ]
    }
   ],
   "source": [
    "import pandas as pd\n",
    "belize_listings_path = \"belize_airbnb_listings.csv\"\n",
    "belize_df = pd.read_csv(belize_listings_path)\n",
    "belize_df = belize_df.groupby('neighbourhood').agg({\n",
    "    'price': 'mean',\n",
    "    'number_of_reviews': 'sum',\n",
    "    'availability_365': 'max'\n",
    "}).reset_index()\n",
    "\n",
    "belize_df.columns = ['neighbourhood', 'average_price', 'total_reviews', 'max_availability_365']\n",
    "\n",
    "print(belize_df)\n",
    "\n"
   ]
  }
 ],
 "metadata": {
  "kernelspec": {
   "display_name": "Python 3",
   "language": "python",
   "name": "python3"
  },
  "language_info": {
   "codemirror_mode": {
    "name": "ipython",
    "version": 3
   },
   "file_extension": ".py",
   "mimetype": "text/x-python",
   "name": "python",
   "nbconvert_exporter": "python",
   "pygments_lexer": "ipython3",
   "version": "3.9.6"
  }
 },
 "nbformat": 4,
 "nbformat_minor": 2
}
