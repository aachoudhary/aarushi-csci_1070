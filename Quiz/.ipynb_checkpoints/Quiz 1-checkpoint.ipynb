{
 "cells": [
  {
   "cell_type": "code",
   "execution_count": 2,
   "id": "58436881-a82c-4419-bd4c-f283e192f4c5",
   "metadata": {},
   "outputs": [
    {
     "name": "stdout",
     "output_type": "stream",
     "text": [
      "May is my birth month\n"
     ]
    }
   ],
   "source": [
    "months = [\"January\",\"February\",\"March\",\"April\",\"May\",\"June\",\"July\",\"August\",\"September\",\"October\",\"November\",\"December\"]\n",
    "birth_month = \"May\"\n",
    "\n",
    "for month in months:\n",
    "    if month == birth_month:\n",
    "        print(f\"{month} is my birth month\")"
   ]
  },
  {
   "cell_type": "markdown",
   "id": "c4a307b8-31b5-4e9b-9be0-2d130766a587",
   "metadata": {},
   "source": [
    "My tree is as is because I have multiple folders and repos in my directory. I already cd into my directory (my personal repo) which is show at the top. From there, we see my folders labeled homework, notes, and quiz, all extending with the individual files in the folders. On top of that, I have the class repo in there as well with its OWN folders that branch out. "
   ]
  }
 ],
 "metadata": {
  "kernelspec": {
   "display_name": "Python 3 (ipykernel)",
   "language": "python",
   "name": "python3"
  },
  "language_info": {
   "codemirror_mode": {
    "name": "ipython",
    "version": 3
   },
   "file_extension": ".py",
   "mimetype": "text/x-python",
   "name": "python",
   "nbconvert_exporter": "python",
   "pygments_lexer": "ipython3",
   "version": "3.12.1"
  }
 },
 "nbformat": 4,
 "nbformat_minor": 5
}
